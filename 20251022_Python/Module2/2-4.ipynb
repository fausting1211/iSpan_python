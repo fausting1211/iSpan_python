{
 "cells": [
  {
   "cell_type": "markdown",
   "metadata": {},
   "source": [
    "|取偶數|取奇數 |\n",
    "|:---|:---|\n",
    "|num%2==0|num%2!=0 |"
   ]
  },
  {
   "cell_type": "code",
   "execution_count": 5,
   "metadata": {},
   "outputs": [
    {
     "name": "stdout",
     "output_type": "stream",
     "text": [
      "奇數\n"
     ]
    }
   ],
   "source": [
    "num = 11\n",
    "if num%2!=0:\n",
    "    print(\"奇數\")"
   ]
  },
  {
   "cell_type": "markdown",
   "metadata": {},
   "source": [
    "算術運算子"
   ]
  },
  {
   "cell_type": "code",
   "execution_count": null,
   "metadata": {},
   "outputs": [
    {
     "name": "stdout",
     "output_type": "stream",
     "text": [
      "9\n",
      "1\n",
      "2\n",
      "8\n"
     ]
    }
   ],
   "source": [
    "print(5+4)\n",
    "print(9%4)\n",
    "print(9//4)\n",
    "print(2**3)"
   ]
  },
  {
   "cell_type": "code",
   "execution_count": 2,
   "metadata": {},
   "outputs": [
    {
     "name": "stdout",
     "output_type": "stream",
     "text": [
      "2\n",
      "1\n"
     ]
    }
   ],
   "source": [
    "num1 = 9\n",
    "num2 = 4\n",
    "print(num1//num2)\n",
    "print(num1%num2)"
   ]
  },
  {
   "cell_type": "markdown",
   "metadata": {},
   "source": [
    "賦值運算子"
   ]
  },
  {
   "cell_type": "code",
   "execution_count": 3,
   "metadata": {},
   "outputs": [
    {
     "name": "stdout",
     "output_type": "stream",
     "text": [
      "7\n"
     ]
    }
   ],
   "source": [
    "a = 3\n",
    "b = 4\n",
    "\n",
    "b += a # 等同於 b = b + a\n",
    "print(b)"
   ]
  },
  {
   "cell_type": "code",
   "execution_count": 4,
   "metadata": {},
   "outputs": [
    {
     "name": "stdout",
     "output_type": "stream",
     "text": [
      "1\n"
     ]
    }
   ],
   "source": [
    "a = 3\n",
    "b = 4\n",
    "\n",
    "b -= a # 等同於 b = b - a\n",
    "print(b)"
   ]
  },
  {
   "cell_type": "code",
   "execution_count": 6,
   "metadata": {},
   "outputs": [
    {
     "name": "stdout",
     "output_type": "stream",
     "text": [
      "4\n",
      "12\n"
     ]
    }
   ],
   "source": [
    "a = 3\n",
    "b = 4\n",
    "print(b)\n",
    "b *= a # 等同於 b = b * a\n",
    "print(b)"
   ]
  },
  {
   "cell_type": "markdown",
   "metadata": {},
   "source": [
    "比較運算子 (用 if 判斷)"
   ]
  },
  {
   "cell_type": "code",
   "execution_count": null,
   "metadata": {},
   "outputs": [
    {
     "name": "stdout",
     "output_type": "stream",
     "text": [
      "True\n",
      "False\n",
      "True\n",
      "N\n"
     ]
    }
   ],
   "source": [
    "print(5==5)\n",
    "a = 10\n",
    "b = 5\n",
    "print(a==b)\n",
    "print(a!=b)\n",
    "\n",
    "if a == b:\n",
    "    print(\"Y\")\n",
    "else:\n",
    "    print(\"N\")"
   ]
  },
  {
   "cell_type": "code",
   "execution_count": 13,
   "metadata": {},
   "outputs": [
    {
     "name": "stdout",
     "output_type": "stream",
     "text": [
      "條件語句\n"
     ]
    }
   ],
   "source": [
    "if True:\n",
    "    print(\"條件語句\")#記得縮排\n",
    "\n",
    "if False:\n",
    "    print(\"條件語句\")#記得縮排"
   ]
  },
  {
   "cell_type": "code",
   "execution_count": null,
   "metadata": {},
   "outputs": [
    {
     "name": "stdout",
     "output_type": "stream",
     "text": [
      "加分\n",
      "學生的分數是 60\n"
     ]
    }
   ],
   "source": [
    "score = 50\n",
    "passing_score = 60\n",
    "\n",
    "if score < passing_score:\n",
    "    score += 10\n",
    "    print(\"加分\")\n",
    "\n",
    "#不管IF執行結果都會執行\n",
    "print(\"學生的分數是\", score)"
   ]
  },
  {
   "cell_type": "markdown",
   "metadata": {},
   "source": [
    "邏輯運算子 and / or / not"
   ]
  },
  {
   "cell_type": "code",
   "execution_count": 24,
   "metadata": {},
   "outputs": [
    {
     "name": "stdout",
     "output_type": "stream",
     "text": [
      "name2: Alex; age:18\n"
     ]
    }
   ],
   "source": [
    "name = 'Alex'\n",
    "age = 20\n",
    "\n",
    "if name == 'Alex' and age == 18:\n",
    "    print(\"name1: Alex; age:18\")\n",
    "\n",
    "if name == 'Alex' and age == 20 and age >= 18:\n",
    "    print(\"name2: Alex; age:18\")"
   ]
  },
  {
   "cell_type": "code",
   "execution_count": 21,
   "metadata": {},
   "outputs": [
    {
     "name": "stdout",
     "output_type": "stream",
     "text": [
      "正確\n"
     ]
    }
   ],
   "source": [
    "name = 'Alex'\n",
    "age = 20\n",
    "\n",
    "if name == 'Alex' or age == 18:\n",
    "    print(\"正確\")"
   ]
  },
  {
   "cell_type": "code",
   "execution_count": 25,
   "metadata": {},
   "outputs": [
    {
     "name": "stdout",
     "output_type": "stream",
     "text": [
      "執行 not 語句\n"
     ]
    }
   ],
   "source": [
    "if not(name == \"Fausting\"):\n",
    "    print(\"執行 not 語句\")"
   ]
  },
  {
   "cell_type": "markdown",
   "metadata": {},
   "source": [
    "成員運算子 in / not in"
   ]
  },
  {
   "cell_type": "code",
   "execution_count": 28,
   "metadata": {},
   "outputs": [
    {
     "name": "stdout",
     "output_type": "stream",
     "text": [
      "1 in list\n",
      "True\n"
     ]
    }
   ],
   "source": [
    "num_list = [1, 2, 3, 4]\n",
    "\n",
    "if 1 in num_list:\n",
    "    print(\"1 in list\")\n",
    "\n",
    "print(1 in num_list)"
   ]
  },
  {
   "cell_type": "code",
   "execution_count": 27,
   "metadata": {},
   "outputs": [
    {
     "name": "stdout",
     "output_type": "stream",
     "text": [
      "5 not in list\n"
     ]
    }
   ],
   "source": [
    "if 5 not in num_list:\n",
    "    print(\"5 not in list\")"
   ]
  },
  {
   "cell_type": "markdown",
   "metadata": {},
   "source": [
    "身分運算子 is / is not"
   ]
  },
  {
   "cell_type": "code",
   "execution_count": 33,
   "metadata": {},
   "outputs": [
    {
     "name": "stdout",
     "output_type": "stream",
     "text": [
      "10\n",
      "10\n",
      "140711536403864\n",
      "140711536403864\n"
     ]
    }
   ],
   "source": [
    "x = 10\n",
    "y = 10\n",
    "print(x)\n",
    "print(y)\n",
    "print(id(x))\n",
    "print(id(y))"
   ]
  },
  {
   "cell_type": "code",
   "execution_count": null,
   "metadata": {},
   "outputs": [
    {
     "name": "stdout",
     "output_type": "stream",
     "text": [
      "x 和 y 參照到同一個記憶體位置\n"
     ]
    }
   ],
   "source": [
    "if x is y:\n",
    "    print(\"x 和 y 參照到同一個記憶體位置\")\n",
    "\n",
    "#不要拿is做值等於判斷"
   ]
  },
  {
   "cell_type": "code",
   "execution_count": 39,
   "metadata": {},
   "outputs": [
    {
     "name": "stdout",
     "output_type": "stream",
     "text": [
      "x 等於 y\n",
      "x 等於 z\n",
      "ID: 2319799257216\n",
      "ID: 2319799262400\n",
      "ID: 2319799257216\n",
      "x 和 y 記憶體位置不相同\n",
      "x 和 z 記憶體位置相同\n"
     ]
    }
   ],
   "source": [
    "x = [1, 2, 3]\n",
    "y = [1, 2, 3]\n",
    "z = x\n",
    "#改了X但不用改了Y\n",
    "\n",
    "if x == y:\n",
    "    print('x 等於 y')\n",
    "\n",
    "if x == z:\n",
    "    print('x 等於 z')\n",
    "\n",
    "print(\"ID:\",id(x))\n",
    "print(\"ID:\",id(y))\n",
    "print(\"ID:\",id(z))\n",
    "\n",
    "if x is y:\n",
    "    print(\"x 和 y 記憶體位置相同\")\n",
    "else:\n",
    "    print(\"x 和 y 記憶體位置不相同\")\n",
    "\n",
    "if x is z:\n",
    "    print(\"x 和 z 記憶體位置相同\")\n",
    "else:\n",
    "    print(\"x 和 z 記憶體位置不相同\")"
   ]
  },
  {
   "cell_type": "code",
   "execution_count": 41,
   "metadata": {},
   "outputs": [
    {
     "name": "stdout",
     "output_type": "stream",
     "text": [
      "parse ok\n"
     ]
    }
   ],
   "source": [
    "parse_ok = True\n",
    "if parse_ok is True:\n",
    "    print(\"parse ok\")"
   ]
  },
  {
   "cell_type": "markdown",
   "metadata": {},
   "source": [
    "位元運算子"
   ]
  },
  {
   "cell_type": "code",
   "execution_count": null,
   "metadata": {},
   "outputs": [
    {
     "name": "stdout",
     "output_type": "stream",
     "text": [
      "1\n",
      "3\n",
      "2\n"
     ]
    }
   ],
   "source": [
    "#不太會用到\n",
    "a = 1 #0001\n",
    "b = 3 #0011\n",
    "\n",
    "print(a & b) #1 相同\n",
    "print(a | b) #1+2 其中為1\n",
    "print(a ^ b) #2 相異"
   ]
  }
 ],
 "metadata": {
  "kernelspec": {
   "display_name": "Python 3",
   "language": "python",
   "name": "python3"
  },
  "language_info": {
   "codemirror_mode": {
    "name": "ipython",
    "version": 3
   },
   "file_extension": ".py",
   "mimetype": "text/x-python",
   "name": "python",
   "nbconvert_exporter": "python",
   "pygments_lexer": "ipython3",
   "version": "3.14.0"
  }
 },
 "nbformat": 4,
 "nbformat_minor": 2
}
